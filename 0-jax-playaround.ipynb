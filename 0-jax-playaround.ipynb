{
 "cells": [
  {
   "attachments": {},
   "cell_type": "markdown",
   "metadata": {},
   "source": [
    "## vmap\n",
    "\n",
    "`vmap` is a function that allows you to automatically vectorize functions that take numpy arrays as inputs. It does this by transforming the function into a function that takes a batch of inputs and returns a batch of outputs. It does this by replacing every `for` loop in the function with a `vmap` function.\n",
    "\n",
    "`in_axes` specify which axis of the positional argument need to be mapped over. Think of this as a batch dimension. \n",
    "\n",
    "output dimension analysis:\n",
    "- applying `vmap` on a specific `in_axes`, means that axes is considered as a batch dimension. `vmap` will return a function that takes in a batch of inputs and returns a batch of outputs. The batch dimension is the first dimension of the output array.\n",
    "\n",
    "Check the following examples.\n",
    " "
   ]
  },
  {
   "cell_type": "code",
   "execution_count": 32,
   "metadata": {},
   "outputs": [],
   "source": [
    "import jax \n",
    "import jax.numpy as jnp\n",
    "from jax import vmap "
   ]
  },
  {
   "cell_type": "code",
   "execution_count": 42,
   "metadata": {},
   "outputs": [
    {
     "name": "stdout",
     "output_type": "stream",
     "text": [
      "(10, 3, 4)\n",
      "(3, 10, 4)\n",
      "(10, 3, 4)\n",
      "(3, 10, 4)\n",
      "(4, 3, 10)\n"
     ]
    },
    {
     "ename": "ValueError",
     "evalue": "vmap was requested to map its argument along axis 2, which implies that its rank should be at least 3, but is only 2 (its shape is (10, 4))",
     "output_type": "error",
     "traceback": [
      "\u001b[0;31m---------------------------------------------------------------------------\u001b[0m",
      "\u001b[0;31mIndexError\u001b[0m                                Traceback (most recent call last)",
      "File \u001b[0;32m~/miniconda3/envs/jax-0.4.8/lib/python3.10/site-packages/jax/_src/api.py:1273\u001b[0m, in \u001b[0;36m_mapped_axis_size.<locals>._get_axis_size\u001b[0;34m(name, shape, axis)\u001b[0m\n\u001b[1;32m   1272\u001b[0m \u001b[39mtry\u001b[39;00m:\n\u001b[0;32m-> 1273\u001b[0m   \u001b[39mreturn\u001b[39;00m shape[axis]\n\u001b[1;32m   1274\u001b[0m \u001b[39mexcept\u001b[39;00m (\u001b[39mIndexError\u001b[39;00m, \u001b[39mTypeError\u001b[39;00m) \u001b[39mas\u001b[39;00m e:\n",
      "\u001b[0;31mIndexError\u001b[0m: tuple index out of range",
      "\nThe above exception was the direct cause of the following exception:\n",
      "\u001b[0;31mValueError\u001b[0m                                Traceback (most recent call last)",
      "Cell \u001b[0;32mIn[42], line 32\u001b[0m\n\u001b[1;32m     28\u001b[0m \u001b[39mprint\u001b[39m(vmap(vmap(f, in_axes\u001b[39m=\u001b[39m(\u001b[39m1\u001b[39m,)), in_axes\u001b[39m=\u001b[39m(\u001b[39m2\u001b[39m,))(x)\u001b[39m.\u001b[39mshape)\n\u001b[1;32m     30\u001b[0m \u001b[39m# apply vmap twice on input x, axis 1 and axis 2 \u001b[39;00m\n\u001b[1;32m     31\u001b[0m \u001b[39m# raise error\u001b[39;00m\n\u001b[0;32m---> 32\u001b[0m \u001b[39mprint\u001b[39m(vmap(vmap(f, in_axes\u001b[39m=\u001b[39;49m(\u001b[39m2\u001b[39;49m,)), in_axes\u001b[39m=\u001b[39;49m(\u001b[39m1\u001b[39;49m,))(x)\u001b[39m.\u001b[39mshape)\n",
      "    \u001b[0;31m[... skipping hidden 9 frame]\u001b[0m\n",
      "File \u001b[0;32m~/miniconda3/envs/jax-0.4.8/lib/python3.10/site-packages/jax/_src/api.py:1277\u001b[0m, in \u001b[0;36m_mapped_axis_size.<locals>._get_axis_size\u001b[0;34m(name, shape, axis)\u001b[0m\n\u001b[1;32m   1275\u001b[0m min_rank \u001b[39m=\u001b[39m axis \u001b[39m+\u001b[39m \u001b[39m1\u001b[39m \u001b[39mif\u001b[39;00m axis \u001b[39m>\u001b[39m\u001b[39m=\u001b[39m \u001b[39m0\u001b[39m \u001b[39melse\u001b[39;00m \u001b[39m-\u001b[39maxis\n\u001b[1;32m   1276\u001b[0m \u001b[39m# TODO(mattjj): better error message here\u001b[39;00m\n\u001b[0;32m-> 1277\u001b[0m \u001b[39mraise\u001b[39;00m \u001b[39mValueError\u001b[39;00m(\n\u001b[1;32m   1278\u001b[0m     \u001b[39mf\u001b[39m\u001b[39m\"\u001b[39m\u001b[39m{\u001b[39;00mname\u001b[39m}\u001b[39;00m\u001b[39m was requested to map its argument along axis \u001b[39m\u001b[39m{\u001b[39;00maxis\u001b[39m}\u001b[39;00m\u001b[39m, \u001b[39m\u001b[39m\"\u001b[39m\n\u001b[1;32m   1279\u001b[0m     \u001b[39mf\u001b[39m\u001b[39m\"\u001b[39m\u001b[39mwhich implies that its rank should be at least \u001b[39m\u001b[39m{\u001b[39;00mmin_rank\u001b[39m}\u001b[39;00m\u001b[39m, \u001b[39m\u001b[39m\"\u001b[39m\n\u001b[1;32m   1280\u001b[0m     \u001b[39mf\u001b[39m\u001b[39m\"\u001b[39m\u001b[39mbut is only \u001b[39m\u001b[39m{\u001b[39;00m\u001b[39mlen\u001b[39m(shape)\u001b[39m}\u001b[39;00m\u001b[39m (its shape is \u001b[39m\u001b[39m{\u001b[39;00mshape\u001b[39m}\u001b[39;00m\u001b[39m)\u001b[39m\u001b[39m\"\u001b[39m) \u001b[39mfrom\u001b[39;00m \u001b[39me\u001b[39;00m\n",
      "\u001b[0;31mValueError\u001b[0m: vmap was requested to map its argument along axis 2, which implies that its rank should be at least 3, but is only 2 (its shape is (10, 4))"
     ]
    }
   ],
   "source": [
    "def f(x):\n",
    "    return x**2\n",
    "\n",
    "x = 2*jnp.ones((10,3,4))\n",
    "\n",
    "# apply vmap to f on axis 0 of x\n",
    "print(vmap(f, in_axes=(0,))(x).shape)\n",
    "\n",
    "# apply vmap to f on axis 1 of x -> now the output shape is (3, 10, 4), with original axis 1 as axis 0 due to batching.\n",
    "print(vmap(f, in_axes=(1,))(x).shape)\n",
    "\n",
    "# apply vmap twice on input x, axis 0 -> 10*3*4\n",
    "# same as applying vmap once on axis 0 of x,\n",
    "print(vmap(vmap(f, in_axes=(0,)), in_axes=(0,))(x).shape)\n",
    "\n",
    "# apply vmap twice on input x, axis 1 and 0 \n",
    "# note this only apply f once.\n",
    "# the outer vmap is applied first -> lead to a shape of (3, 10, 4)\n",
    "# the inner vmap is the applied only to (10,4) -> lead to a shape of (10, 4)\n",
    "# the final output shape is (3, 10, 4)\n",
    "print(vmap(vmap(f, in_axes=(0,)), in_axes=(1))(x).shape)\n",
    "\n",
    "\n",
    "# apply vmap twice on input x, axis 2 and axis 1\n",
    "# apply outer vmap first -> lead to a shape of (4, 10, 3)\n",
    "# apply inner vmap to (10,3) -> lead to a shape of (3, 10)\n",
    "# the final output shape is (4, 3, 10)\n",
    "print(vmap(vmap(f, in_axes=(1,)), in_axes=(2,))(x).shape)\n",
    "\n",
    "# apply vmap twice on input x, axis 1 and axis 2 \n",
    "# raise error\n",
    "# because the inner vmap has no axis 2 after the outer vmap is applied.\n",
    "print(vmap(vmap(f, in_axes=(2,)), in_axes=(1,))(x).shape)"
   ]
  },
  {
   "cell_type": "code",
   "execution_count": 47,
   "metadata": {},
   "outputs": [
    {
     "name": "stdout",
     "output_type": "stream",
     "text": [
      "from shape:  (3, 4) -> (4,)\n",
      "from shape:  (10, 3, 4) -> (10, 4)\n",
      "from shape:  (3, 4) -> (4,)\n",
      "from shape:  (10, 3, 4) -> (3, 4)\n",
      "from shape:  (10, 3, 4) -> (10, 3)\n",
      "(3, 10)\n"
     ]
    }
   ],
   "source": [
    "# Now let's try a function that does change the shape of the input:\n",
    "# f1 sum over axis 0 of given array, which will remove the dimension of the array by 1\n",
    "def f1(x):\n",
    "    return jnp.sum(x, axis=0)\n",
    "\n",
    "# apply vmap to f1 on axis 0 of x\n",
    "print(\"from shape: \", x[0,:,:].shape, \"->\", f1(x[0,:,:]).shape)\n",
    "print(\"from shape: \", x.shape, \"->\", vmap(f1, in_axes=(0,))(x).shape)\n",
    "\n",
    "# apply vmap to f1 on axis 1 of x\n",
    "print(\"from shape: \", x[1,:,:].shape, \"->\", f1(x[1,:,:]).shape)\n",
    "print(\"from shape: \", x.shape, \"->\", vmap(f1, in_axes=(1,))(x).shape)\n",
    "\n",
    "# apply vmap twice on axis 0 of x \n",
    "# apply outer vmap -> lead to a shape of (10, 3, 4)\n",
    "# apply inner vmap to f with an input shape of (10,4) -> lead to a shape of (10,)\n",
    "# the final output shape is (10, 3)\n",
    "print(\"from shape: \", x.shape, \"->\", vmap(vmap(f1, in_axes=(0,)), in_axes=(0,))(x).shape)\n",
    "\n",
    "# apply vmap twice on axis 1 and axis 0 of x\n",
    "# apply outer vmap -> lead to a shape of (3, 10, 4)\n",
    "# apply inner vmap to f with an input shape of (10,4) -> lead to a shape of (10,)\n",
    "# the final output shape is (3, 10)\n",
    "print(vmap(vmap(f1, in_axes=(0,)), in_axes=(1,))(x).shape)\n",
    "\n"
   ]
  },
  {
   "attachments": {},
   "cell_type": "markdown",
   "metadata": {},
   "source": [
    "## cdist\n",
    "\n",
    "Pairwise distance between two arrays."
   ]
  },
  {
   "cell_type": "code",
   "execution_count": 22,
   "metadata": {},
   "outputs": [
    {
     "name": "stdout",
     "output_type": "stream",
     "text": [
      "(2, 3) (3,)\n",
      "\n"
     ]
    },
    {
     "data": {
      "text/plain": [
       "Array([14., 77.], dtype=float32)"
      ]
     },
     "execution_count": 22,
     "metadata": {},
     "output_type": "execute_result"
    }
   ],
   "source": [
    "\n",
    "from scipy.spatial.distance import cdist\n",
    "\n",
    "# vmap(func, in_axes, out_axes)\n",
    "# in_axes specifies which axes to map over in the input arguments\n",
    "# e.g., (0,1) means map the first axis of the first argument and the second axis of the second argument\n",
    "# out_axes specifies which axes to map over in the output values\n",
    "\n",
    "# vector product: x, y are (n,) vectors\n",
    "vv = lambda x, y: jnp.vdot(x,y)\n",
    "\n",
    "# matrix vector product: x is (n,m) matrix, y is (m,) vector -> (n,) vector \n",
    "mv = vmap(vv, (0, None), 0)\n",
    "\n",
    "# matrix matrix product x is (n,m), y is (m,n) -> (n,n)\n",
    "mm = vmap(mv, (None, 1), 1)\n",
    "\n",
    "x = jnp.array([[1.,2.,3.],[4.,5.,6.]])\n",
    "y = jnp.array([1.,2.,3.])\n",
    "\n",
    "print(x.shape, y.shape)\n",
    "print()\n",
    "mm(x,x.T)\n",
    "\n",
    "mv1 = vmap(vv, (0, 0), 0)\n",
    "mv1(x, x)\n",
    "\n"
   ]
  },
  {
   "attachments": {},
   "cell_type": "markdown",
   "metadata": {},
   "source": [
    "Two ways of implement `cdist` in JAX:"
   ]
  },
  {
   "cell_type": "code",
   "execution_count": 23,
   "metadata": {},
   "outputs": [
    {
     "name": "stdout",
     "output_type": "stream",
     "text": [
      "[[ 8.48528137 11.3137085 ]\n",
      " [ 5.65685425  8.48528137]\n",
      " [ 2.82842712  5.65685425]]\n",
      "[[ 8.485281 11.313708]\n",
      " [ 5.656854  8.485281]\n",
      " [ 2.828427  5.656854]]\n"
     ]
    }
   ],
   "source": [
    "X = jnp.array([[1.0, 2.0], [3.0, 4.0], [5.0, 6.0]])\n",
    "Y = jnp.array([[7.0, 8.0], [9.0, 10.0]])\n",
    "\n",
    "dist = cdist(X, Y, metric=\"euclidean\")\n",
    "print(dist)\n",
    "\n",
    "def cdist_jax(X, Y):\n",
    "    #out_shape = out_shape or (X.shape[0], Y.shape[0])\n",
    "    #distances = jnp.zeros(out_shape)\n",
    "    \n",
    "    # Compute the squared Euclidean distances between all pairs of points\n",
    "    # in X and Y.\n",
    "    # The result is a matrix where the (i, j)-th entry is the squared\n",
    "    # Euclidean distance between the i-th point in X and the j-th point in Y.\n",
    "    squared_distances = jnp.sum(jnp.square(X[:, jnp.newaxis] - Y), axis=-1)\n",
    "    \n",
    "    # Take the square root to obtain the Euclidean distances.\n",
    "    distances = jnp.sqrt(squared_distances)\n",
    "    \n",
    "    return distances\n",
    "\n",
    "dist_1 = jax.jit(cdist_jax)(X,Y)\n",
    "print(dist_1)\n"
   ]
  },
  {
   "cell_type": "code",
   "execution_count": 24,
   "metadata": {},
   "outputs": [
    {
     "name": "stdout",
     "output_type": "stream",
     "text": [
      "[[ 8.485281 11.313708]\n",
      " [ 5.656854  8.485281]\n",
      " [ 2.828427  5.656854]]\n",
      "(3, 2) (2, 2)\n"
     ]
    }
   ],
   "source": [
    "# Define a function that computes the Euclidean distance between two points.\n",
    "def euclidean_distance(x, y):\n",
    "    return jnp.sqrt(jnp.sum((x - y) ** 2))\n",
    "\n",
    "\n",
    "# use vmap to vectorize \n",
    "# X-(m,d), Y->(n,d), f(X,Y)->(m,n)\n",
    "# outer vmap goes over axis 0 of X, so that the batch dimension is mapped over, which is m\n",
    "# inner vmap goes over axis 0 of Y, so that the batch dimension is mapped over, which is n\n",
    "cdist_jax = vmap(vmap(euclidean_distance, in_axes=(None, 0)), in_axes=(0, None))\n",
    "\n",
    "distances = cdist_jax(X, Y)\n",
    "print(distances)\n",
    "print(X.shape, Y.shape)"
   ]
  },
  {
   "attachments": {},
   "cell_type": "markdown",
   "metadata": {},
   "source": [
    "## Broadcasting\n",
    "\n",
    "- match dimensions of two arrays from the end to the beginning\n",
    "- dimensions are compatible if:\n",
    "    - they are equal\n",
    "    - one of them is 1\n",
    "    - if dimensions are not compatible, raise `ValueError`\n",
    "- if one array has fewer dimensions than the other, prepend 1 to its shape until the number of dimensions matches\n",
    "- if one dimension has length 1, the array is repeated along that dimension"
   ]
  },
  {
   "cell_type": "code",
   "execution_count": 25,
   "metadata": {},
   "outputs": [
    {
     "name": "stdout",
     "output_type": "stream",
     "text": [
      "(4,) (3,)\n",
      "[[ 1.  2.  3.]\n",
      " [11. 12. 13.]\n",
      " [21. 22. 23.]\n",
      " [31. 32. 33.]]\n",
      "[[ 1. 11. 21. 31.]\n",
      " [ 2. 12. 22. 32.]\n",
      " [ 3. 13. 23. 33.]]\n",
      "(4, 3)\n",
      "(3, 2) (2, 2)\n",
      "(3, 1, 2) (2, 2)\n",
      "(3, 2, 2)\n"
     ]
    }
   ],
   "source": [
    "a = jnp.array([0.0, 10.0, 20.0, 30.0])\n",
    "b = jnp.array([1.0, 2.0, 3.0])\n",
    "\n",
    "print(a.shape, b.shape)\n",
    "\n",
    "# a+b will not work\n",
    "# use newaxis to make (4,1) for a and then add together -> (4, 3)\n",
    "print(a[:, jnp.newaxis] + b)\n",
    "\n",
    "# use newaxis to make (3,1) for b and then add together -> (3, 4)\n",
    "print(a + b[:, jnp.newaxis])\n",
    "\n",
    "def add(x,y):\n",
    "    return x+y\n",
    "\n",
    "res = vmap(add, in_axes=(0, None))(a,b)\n",
    "print(res.shape)\n",
    "\n",
    "# 3-D array\n",
    "print(X.shape, Y.shape)\n",
    "print(X[:, jnp.newaxis,:].shape, Y.shape) \n",
    "\n",
    "print((X[:, jnp.newaxis] - Y).shape)\n",
    "\n"
   ]
  }
 ],
 "metadata": {
  "kernelspec": {
   "display_name": "jax-0.4.8",
   "language": "python",
   "name": "python3"
  },
  "language_info": {
   "codemirror_mode": {
    "name": "ipython",
    "version": 3
   },
   "file_extension": ".py",
   "mimetype": "text/x-python",
   "name": "python",
   "nbconvert_exporter": "python",
   "pygments_lexer": "ipython3",
   "version": "3.10.0"
  },
  "orig_nbformat": 4
 },
 "nbformat": 4,
 "nbformat_minor": 2
}
