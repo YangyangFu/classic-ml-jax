{
 "cells": [
  {
   "cell_type": "code",
   "execution_count": 2,
   "metadata": {},
   "outputs": [
    {
     "name": "stderr",
     "output_type": "stream",
     "text": [
      "2023-05-05 23:41:36.497269: W external/xla/xla/service/platform_util.cc:198] unable to create StreamExecutor for CUDA:0: failed initializing StreamExecutor for CUDA device ordinal 0: INTERNAL: failed call to cuDevicePrimaryCtxRetain: CUDA_ERROR_OUT_OF_MEMORY: out of memory; total memory reported: 25420759040\n",
      "No GPU/TPU found, falling back to CPU. (Set TF_CPP_MIN_LOG_LEVEL=0 and rerun for more info.)\n"
     ]
    },
    {
     "name": "stdout",
     "output_type": "stream",
     "text": [
      "(2, 3) (3,)\n",
      "\n"
     ]
    },
    {
     "data": {
      "text/plain": [
       "Array([14., 77.], dtype=float32)"
      ]
     },
     "execution_count": 2,
     "metadata": {},
     "output_type": "execute_result"
    }
   ],
   "source": [
    "import jax \n",
    "import jax.numpy as jnp\n",
    "from scipy.spatial.distance import cdist\n",
    "\n",
    "# vmap(func, in_axes, out_axes)\n",
    "# in_axes specifies which axes to map over in the input arguments\n",
    "# e.g., (0,1) means map the first axis of the first argument and the second axis of the second argument\n",
    "# out_axes specifies which axes to map over in the output values\n",
    "\n",
    "# vector product: x, y are (n,) vectors\n",
    "vv = lambda x, y: jnp.vdot(x,y)\n",
    "\n",
    "# matrix vector product: x is (n,m) matrix, y is (m,) vector -> (n,) vector \n",
    "mv = jax.vmap(vv, (0, None), 0)\n",
    "\n",
    "# matrix matrix product x is (n,m), y is (m,n) -> (n,n)\n",
    "mm = jax.vmap(mv, (None, 1), 1)\n",
    "\n",
    "x = jnp.array([[1.,2.,3.],[4.,5.,6.]])\n",
    "y = jnp.array([1.,2.,3.])\n",
    "\n",
    "print(x.shape, y.shape)\n",
    "print()\n",
    "mm(x,x.T)\n",
    "\n",
    "mv1 = jax.vmap(vv, (0, 0), 0)\n",
    "mv1(x, x)\n",
    "\n"
   ]
  },
  {
   "attachments": {},
   "cell_type": "markdown",
   "metadata": {},
   "source": [
    "Two ways of implement `cdist` in JAX:"
   ]
  },
  {
   "cell_type": "code",
   "execution_count": 6,
   "metadata": {},
   "outputs": [
    {
     "name": "stdout",
     "output_type": "stream",
     "text": [
      "[[ 8.48528137 11.3137085 ]\n",
      " [ 5.65685425  8.48528137]\n",
      " [ 2.82842712  5.65685425]]\n",
      "[[ 8.485281 11.313708]\n",
      " [ 5.656854  8.485281]\n",
      " [ 2.828427  5.656854]]\n"
     ]
    }
   ],
   "source": [
    "X = jnp.array([[1.0, 2.0], [3.0, 4.0], [5.0, 6.0]])\n",
    "Y = jnp.array([[7.0, 8.0], [9.0, 10.0]])\n",
    "\n",
    "dist = cdist(X, Y, metric=\"euclidean\")\n",
    "print(dist)\n",
    "\n",
    "def cdist_jax(X, Y):\n",
    "    #out_shape = out_shape or (X.shape[0], Y.shape[0])\n",
    "    #distances = jnp.zeros(out_shape)\n",
    "    \n",
    "    # Compute the squared Euclidean distances between all pairs of points\n",
    "    # in X and Y.\n",
    "    # The result is a matrix where the (i, j)-th entry is the squared\n",
    "    # Euclidean distance between the i-th point in X and the j-th point in Y.\n",
    "    squared_distances = jnp.sum(jnp.square(X[:, jnp.newaxis] - Y), axis=-1)\n",
    "    \n",
    "    # Take the square root to obtain the Euclidean distances.\n",
    "    distances = jnp.sqrt(squared_distances)\n",
    "    \n",
    "    return distances\n",
    "\n",
    "dist_1 = jax.jit(cdist_jax)(X,Y)\n",
    "print(dist_1)\n"
   ]
  },
  {
   "cell_type": "code",
   "execution_count": null,
   "metadata": {},
   "outputs": [
    {
     "name": "stdout",
     "output_type": "stream",
     "text": [
      "[[ 8.485281 11.313708]\n",
      " [ 5.656854  8.485281]\n",
      " [ 2.828427  5.656854]]\n",
      "(3, 2) (2, 2)\n"
     ]
    }
   ],
   "source": [
    "# Define a function that computes the Euclidean distance between two points.\n",
    "def euclidean_distance(x, y):\n",
    "    return jnp.sqrt(jnp.sum((x - y) ** 2))\n",
    "\n",
    "# Use vmap to vectorize the euclidean_distance function along the first axis\n",
    "# of both input arrays. This allows us to compute pairwise distances between\n",
    "# all points in X and Y.\n",
    "cdist_jax = jax.vmap(jax.vmap(euclidean_distance, in_axes=(None, 0)), in_axes=(0, None))\n",
    "\n",
    "distances = cdist_jax(X, Y)\n",
    "print(distances)\n",
    "print(X.shape, Y.shape)"
   ]
  }
 ],
 "metadata": {
  "kernelspec": {
   "display_name": "jax-0.4.8",
   "language": "python",
   "name": "python3"
  },
  "language_info": {
   "codemirror_mode": {
    "name": "ipython",
    "version": 3
   },
   "file_extension": ".py",
   "mimetype": "text/x-python",
   "name": "python",
   "nbconvert_exporter": "python",
   "pygments_lexer": "ipython3",
   "version": "3.10.0"
  },
  "orig_nbformat": 4
 },
 "nbformat": 4,
 "nbformat_minor": 2
}
