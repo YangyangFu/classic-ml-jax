{
 "cells": [
  {
   "attachments": {},
   "cell_type": "markdown",
   "metadata": {},
   "source": [
    "# GPU in JAX\n"
   ]
  },
  {
   "cell_type": "code",
   "execution_count": 3,
   "metadata": {},
   "outputs": [],
   "source": [
    "import jax \n",
    "import jax.numpy as jnp \n",
    "from jax import jit\n",
    "import numpy as np\n",
    "\n",
    "import os"
   ]
  },
  {
   "cell_type": "code",
   "execution_count": 4,
   "metadata": {},
   "outputs": [
    {
     "name": "stdout",
     "output_type": "stream",
     "text": [
      "[StreamExecutorGpuDevice(id=0, process_index=0, slice_index=0)]\n",
      "gpu:0\n"
     ]
    },
    {
     "data": {
      "text/plain": [
       "Array([[2514.1912, 2485.1702, 2488.3699, ..., 2503.8562, 2491.3953,\n",
       "        2503.245 ],\n",
       "       [2496.4675, 2473.522 , 2461.8132, ..., 2474.7751, 2466.7505,\n",
       "        2456.5618],\n",
       "       [2478.6448, 2444.6829, 2435.4197, ..., 2443.6108, 2459.9668,\n",
       "        2440.956 ],\n",
       "       ...,\n",
       "       [2498.856 , 2486.4717, 2479.0698, ..., 2474.431 , 2469.776 ,\n",
       "        2471.3376],\n",
       "       [2510.9102, 2494.5608, 2484.801 , ..., 2497.146 , 2489.5305,\n",
       "        2475.3413],\n",
       "       [2499.1345, 2470.2068, 2442.84  , ..., 2459.4705, 2458.122 ,\n",
       "        2471.1055]], dtype=float32)"
      ]
     },
     "execution_count": 4,
     "metadata": {},
     "output_type": "execute_result"
    }
   ],
   "source": [
    "devices = jax.devices()\n",
    "print(devices)\n",
    "\n",
    "cpus = jax.devices('cpu')\n",
    "gpus = jax.devices('gpu')\n",
    "\n",
    "#device = cpus[0]\n",
    "device  = gpus[0]\n",
    "a = jnp.array(np.random.rand(10000, 10000))\n",
    "b = jnp.array(np.random.rand(10000, 10000))\n",
    "a = jax.device_put(a, device)\n",
    "b = jax.device_put(b, device)\n",
    "print(a.device())\n",
    "\n",
    "a@b"
   ]
  }
 ],
 "metadata": {
  "kernelspec": {
   "display_name": "jax-0.4.8",
   "language": "python",
   "name": "python3"
  },
  "language_info": {
   "codemirror_mode": {
    "name": "ipython",
    "version": 3
   },
   "file_extension": ".py",
   "mimetype": "text/x-python",
   "name": "python",
   "nbconvert_exporter": "python",
   "pygments_lexer": "ipython3",
   "version": "3.8.5"
  },
  "orig_nbformat": 4
 },
 "nbformat": 4,
 "nbformat_minor": 2
}
