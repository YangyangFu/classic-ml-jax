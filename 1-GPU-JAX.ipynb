{
 "cells": [
  {
   "attachments": {},
   "cell_type": "markdown",
   "metadata": {},
   "source": [
    "# GPU in JAX\n"
   ]
  },
  {
   "cell_type": "code",
   "execution_count": 1,
   "metadata": {},
   "outputs": [],
   "source": [
    "import jax \n",
    "import jax.numpy as jnp \n",
    "from jax import jit\n",
    "import numpy as np\n",
    "\n",
    "import os"
   ]
  },
  {
   "cell_type": "code",
   "execution_count": 2,
   "metadata": {},
   "outputs": [
    {
     "name": "stderr",
     "output_type": "stream",
     "text": [
      "2023-04-20 22:18:18.793903: E external/xla/xla/stream_executor/cuda/cuda_driver.cc:268] failed call to cuInit: CUDA_ERROR_UNKNOWN: unknown error\n",
      "No GPU/TPU found, falling back to CPU. (Set TF_CPP_MIN_LOG_LEVEL=0 and rerun for more info.)\n"
     ]
    },
    {
     "name": "stdout",
     "output_type": "stream",
     "text": [
      "[CpuDevice(id=0)]\n",
      "[CpuDevice(id=0)]\n"
     ]
    },
    {
     "data": {
      "text/plain": [
       "array([[240.29306936, 239.0590141 , 249.08604169, ..., 246.23778987,\n",
       "        242.88329851, 250.57743745],\n",
       "       [247.40288358, 239.6612843 , 251.37618707, ..., 246.29773011,\n",
       "        248.66868528, 252.60308579],\n",
       "       [245.47485775, 244.62742427, 253.32860018, ..., 253.25144469,\n",
       "        248.89927567, 252.66213324],\n",
       "       ...,\n",
       "       [249.38968577, 244.73255896, 259.06934765, ..., 256.34594172,\n",
       "        251.96232535, 259.32560513],\n",
       "       [249.33825619, 245.17788539, 255.43226044, ..., 255.2378174 ,\n",
       "        249.81864015, 256.55221922],\n",
       "       [247.29962093, 242.70992908, 251.98706143, ..., 250.32194561,\n",
       "        246.32358077, 247.94728717]])"
      ]
     },
     "execution_count": 2,
     "metadata": {},
     "output_type": "execute_result"
    }
   ],
   "source": [
    "#os.environ['TF_CPP_MIN_LOG_LEVEL'] = \"0\"\n",
    "\n",
    "devices = jax.devices()\n",
    "print(devices)\n",
    "\n",
    "cpus = jax.devices('cpu')\n",
    "print(cpus)\n",
    "#gpus = jax.devices('gpu')\n",
    "#print(gpus)\n",
    "\n",
    "a = np.random.rand(1000, 1000)\n",
    "b = np.random.rand(1000, 1000)\n",
    "\n",
    "a@b"
   ]
  }
 ],
 "metadata": {
  "kernelspec": {
   "display_name": "jax-0.4.8",
   "language": "python",
   "name": "python3"
  },
  "language_info": {
   "codemirror_mode": {
    "name": "ipython",
    "version": 3
   },
   "file_extension": ".py",
   "mimetype": "text/x-python",
   "name": "python",
   "nbconvert_exporter": "python",
   "pygments_lexer": "ipython3",
   "version": "3.10.9"
  },
  "orig_nbformat": 4
 },
 "nbformat": 4,
 "nbformat_minor": 2
}
