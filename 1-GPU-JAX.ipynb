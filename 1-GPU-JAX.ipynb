{
 "cells": [
  {
   "attachments": {},
   "cell_type": "markdown",
   "metadata": {},
   "source": [
    "# GPU in JAX\n"
   ]
  },
  {
   "cell_type": "code",
   "execution_count": 3,
   "metadata": {},
   "outputs": [],
   "source": [
    "import jax \n",
    "import jax.numpy as jnp \n",
    "from jax import jit\n",
    "import numpy as np\n",
    "\n",
    "import os"
   ]
  },
  {
   "cell_type": "code",
   "execution_count": 4,
   "metadata": {},
   "outputs": [
    {
     "name": "stdout",
     "output_type": "stream",
     "text": [
      "[StreamExecutorGpuDevice(id=0, process_index=0, slice_index=0)]\n",
      "gpu:0\n"
     ]
    },
    {
     "data": {
      "text/plain": [
       "Array([[2496.986 , 2524.375 , 2505.794 , ..., 2517.1182, 2498.3406,\n",
       "        2486.81  ],\n",
       "       [2482.2734, 2529.7866, 2475.8784, ..., 2516.402 , 2493.9597,\n",
       "        2471.7737],\n",
       "       [2481.2766, 2499.945 , 2499.5444, ..., 2511.3684, 2481.5535,\n",
       "        2491.9277],\n",
       "       ...,\n",
       "       [2497.0215, 2530.4656, 2508.985 , ..., 2530.4473, 2505.5117,\n",
       "        2503.628 ],\n",
       "       [2489.2717, 2524.023 , 2485.934 , ..., 2524.1477, 2485.9812,\n",
       "        2488.598 ],\n",
       "       [2514.5974, 2531.8352, 2508.5264, ..., 2524.7874, 2501.6194,\n",
       "        2503.8394]], dtype=float32)"
      ]
     },
     "execution_count": 4,
     "metadata": {},
     "output_type": "execute_result"
    }
   ],
   "source": [
    "devices = jax.devices()\n",
    "print(devices)\n",
    "\n",
    "cpus = jax.devices('cpu')\n",
    "gpus = jax.devices('gpu')\n",
    "\n",
    "#device = cpus[0]\n",
    "device  = gpus[0]\n",
    "a = jnp.array(np.random.rand(10000, 10000))\n",
    "b = jnp.array(np.random.rand(10000, 10000))\n",
    "a = jax.device_put(a, device)\n",
    "b = jax.device_put(b, device)\n",
    "print(a.device())\n",
    "\n",
    "a@b"
   ]
  }
 ],
 "metadata": {
  "kernelspec": {
   "display_name": "jax-0.4.8",
   "language": "python",
   "name": "python3"
  },
  "language_info": {
   "codemirror_mode": {
    "name": "ipython",
    "version": 3
   },
   "file_extension": ".py",
   "mimetype": "text/x-python",
   "name": "python",
   "nbconvert_exporter": "python",
   "pygments_lexer": "ipython3",
   "version": "3.10.0"
  },
  "orig_nbformat": 4
 },
 "nbformat": 4,
 "nbformat_minor": 2
}
