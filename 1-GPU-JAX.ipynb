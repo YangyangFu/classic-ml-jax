{
 "cells": [
  {
   "attachments": {},
   "cell_type": "markdown",
   "metadata": {},
   "source": [
    "# GPU in JAX\n"
   ]
  },
  {
   "cell_type": "code",
   "execution_count": 1,
   "metadata": {},
   "outputs": [],
   "source": [
    "import jax \n",
    "import jax.numpy as jnp \n",
    "from jax import jit\n",
    "import numpy as np\n",
    "\n",
    "import os"
   ]
  },
  {
   "cell_type": "code",
   "execution_count": 2,
   "metadata": {},
   "outputs": [
    {
     "name": "stderr",
     "output_type": "stream",
     "text": [
      "2023-05-05 22:17:41.470792: W external/xla/xla/service/platform_util.cc:198] unable to create StreamExecutor for CUDA:0: failed initializing StreamExecutor for CUDA device ordinal 0: INTERNAL: failed call to cuDevicePrimaryCtxRetain: CUDA_ERROR_OUT_OF_MEMORY: out of memory; total memory reported: 25420759040\n",
      "No GPU/TPU found, falling back to CPU. (Set TF_CPP_MIN_LOG_LEVEL=0 and rerun for more info.)\n"
     ]
    },
    {
     "name": "stdout",
     "output_type": "stream",
     "text": [
      "[CpuDevice(id=0)]\n"
     ]
    },
    {
     "ename": "RuntimeError",
     "evalue": "Unknown backend: 'gpu' requested, but no platforms that are instances of gpu are present. Platforms present are: interpreter,cpu",
     "output_type": "error",
     "traceback": [
      "\u001b[0;31m---------------------------------------------------------------------------\u001b[0m",
      "\u001b[0;31mRuntimeError\u001b[0m                              Traceback (most recent call last)",
      "Cell \u001b[0;32mIn[2], line 5\u001b[0m\n\u001b[1;32m      2\u001b[0m \u001b[39mprint\u001b[39m(devices)\n\u001b[1;32m      4\u001b[0m cpus \u001b[39m=\u001b[39m jax\u001b[39m.\u001b[39mdevices(\u001b[39m'\u001b[39m\u001b[39mcpu\u001b[39m\u001b[39m'\u001b[39m)\n\u001b[0;32m----> 5\u001b[0m gpus \u001b[39m=\u001b[39m jax\u001b[39m.\u001b[39;49mdevices(\u001b[39m'\u001b[39;49m\u001b[39mgpu\u001b[39;49m\u001b[39m'\u001b[39;49m)\n\u001b[1;32m      7\u001b[0m \u001b[39m#device = cpus[0]\u001b[39;00m\n\u001b[1;32m      8\u001b[0m device  \u001b[39m=\u001b[39m gpus[\u001b[39m0\u001b[39m]\n",
      "File \u001b[0;32m~/miniconda3/envs/jax-0.4.8/lib/python3.10/site-packages/jax/_src/xla_bridge.py:584\u001b[0m, in \u001b[0;36mdevices\u001b[0;34m(backend)\u001b[0m\n\u001b[1;32m    559\u001b[0m \u001b[39mdef\u001b[39;00m \u001b[39mdevices\u001b[39m(\n\u001b[1;32m    560\u001b[0m     backend: Optional[Union[\u001b[39mstr\u001b[39m, xla_client\u001b[39m.\u001b[39mClient]] \u001b[39m=\u001b[39m \u001b[39mNone\u001b[39;00m\n\u001b[1;32m    561\u001b[0m ) \u001b[39m-\u001b[39m\u001b[39m>\u001b[39m List[xla_client\u001b[39m.\u001b[39mDevice]:\n\u001b[1;32m    562\u001b[0m \u001b[39m  \u001b[39m\u001b[39m\"\"\"Returns a list of all devices for a given backend.\u001b[39;00m\n\u001b[1;32m    563\u001b[0m \n\u001b[1;32m    564\u001b[0m \u001b[39m  .. currentmodule:: jaxlib.xla_extension\u001b[39;00m\n\u001b[0;32m   (...)\u001b[0m\n\u001b[1;32m    582\u001b[0m \u001b[39m    List of Device subclasses.\u001b[39;00m\n\u001b[1;32m    583\u001b[0m \u001b[39m  \"\"\"\u001b[39;00m\n\u001b[0;32m--> 584\u001b[0m   \u001b[39mreturn\u001b[39;00m get_backend(backend)\u001b[39m.\u001b[39mdevices()\n",
      "File \u001b[0;32m~/miniconda3/envs/jax-0.4.8/lib/python3.10/site-packages/jax/_src/xla_bridge.py:518\u001b[0m, in \u001b[0;36mget_backend\u001b[0;34m(platform)\u001b[0m\n\u001b[1;32m    514\u001b[0m \u001b[39m@lru_cache\u001b[39m(maxsize\u001b[39m=\u001b[39m\u001b[39mNone\u001b[39;00m)  \u001b[39m# don't use util.memoize because there is no X64 dependence.\u001b[39;00m\n\u001b[1;32m    515\u001b[0m \u001b[39mdef\u001b[39;00m \u001b[39mget_backend\u001b[39m(\n\u001b[1;32m    516\u001b[0m     platform: Union[\u001b[39mNone\u001b[39;00m, \u001b[39mstr\u001b[39m, xla_client\u001b[39m.\u001b[39mClient] \u001b[39m=\u001b[39m \u001b[39mNone\u001b[39;00m\n\u001b[1;32m    517\u001b[0m ) \u001b[39m-\u001b[39m\u001b[39m>\u001b[39m xla_client\u001b[39m.\u001b[39mClient:\n\u001b[0;32m--> 518\u001b[0m   \u001b[39mreturn\u001b[39;00m _get_backend_uncached(platform)\n",
      "File \u001b[0;32m~/miniconda3/envs/jax-0.4.8/lib/python3.10/site-packages/jax/_src/xla_bridge.py:501\u001b[0m, in \u001b[0;36m_get_backend_uncached\u001b[0;34m(platform)\u001b[0m\n\u001b[1;32m    499\u001b[0m bs \u001b[39m=\u001b[39m backends()\n\u001b[1;32m    500\u001b[0m \u001b[39mif\u001b[39;00m platform \u001b[39mis\u001b[39;00m \u001b[39mnot\u001b[39;00m \u001b[39mNone\u001b[39;00m:\n\u001b[0;32m--> 501\u001b[0m   platform \u001b[39m=\u001b[39m canonicalize_platform(platform)\n\u001b[1;32m    502\u001b[0m   backend \u001b[39m=\u001b[39m bs\u001b[39m.\u001b[39mget(platform, \u001b[39mNone\u001b[39;00m)\n\u001b[1;32m    503\u001b[0m   \u001b[39mif\u001b[39;00m backend \u001b[39mis\u001b[39;00m \u001b[39mNone\u001b[39;00m:\n",
      "File \u001b[0;32m~/miniconda3/envs/jax-0.4.8/lib/python3.10/site-packages/jax/_src/xla_bridge.py:381\u001b[0m, in \u001b[0;36mcanonicalize_platform\u001b[0;34m(platform)\u001b[0m\n\u001b[1;32m    379\u001b[0m   \u001b[39mif\u001b[39;00m p \u001b[39min\u001b[39;00m b\u001b[39m.\u001b[39mkeys():\n\u001b[1;32m    380\u001b[0m     \u001b[39mreturn\u001b[39;00m p\n\u001b[0;32m--> 381\u001b[0m \u001b[39mraise\u001b[39;00m \u001b[39mRuntimeError\u001b[39;00m(\u001b[39mf\u001b[39m\u001b[39m\"\u001b[39m\u001b[39mUnknown backend: \u001b[39m\u001b[39m'\u001b[39m\u001b[39m{\u001b[39;00mplatform\u001b[39m}\u001b[39;00m\u001b[39m'\u001b[39m\u001b[39m requested, but no \u001b[39m\u001b[39m\"\u001b[39m\n\u001b[1;32m    382\u001b[0m                    \u001b[39mf\u001b[39m\u001b[39m\"\u001b[39m\u001b[39mplatforms that are instances of \u001b[39m\u001b[39m{\u001b[39;00mplatform\u001b[39m}\u001b[39;00m\u001b[39m are present. \u001b[39m\u001b[39m\"\u001b[39m\n\u001b[1;32m    383\u001b[0m                    \u001b[39m\"\u001b[39m\u001b[39mPlatforms present are: \u001b[39m\u001b[39m\"\u001b[39m \u001b[39m+\u001b[39m \u001b[39m\"\u001b[39m\u001b[39m,\u001b[39m\u001b[39m\"\u001b[39m\u001b[39m.\u001b[39mjoin(b\u001b[39m.\u001b[39mkeys()))\n",
      "\u001b[0;31mRuntimeError\u001b[0m: Unknown backend: 'gpu' requested, but no platforms that are instances of gpu are present. Platforms present are: interpreter,cpu"
     ]
    }
   ],
   "source": [
    "devices = jax.devices()\n",
    "print(devices)\n",
    "\n",
    "cpus = jax.devices('cpu')\n",
    "gpus = jax.devices('gpu')\n",
    "\n",
    "#device = cpus[0]\n",
    "device  = gpus[0]\n",
    "a = jnp.array(np.random.rand(10000, 10000))\n",
    "b = jnp.array(np.random.rand(10000, 10000))\n",
    "a = jax.device_put(a, device)\n",
    "b = jax.device_put(b, device)\n",
    "print(a.device())\n",
    "\n",
    "a@b"
   ]
  }
 ],
 "metadata": {
  "kernelspec": {
   "display_name": "jax-0.4.8",
   "language": "python",
   "name": "python3"
  },
  "language_info": {
   "codemirror_mode": {
    "name": "ipython",
    "version": 3
   },
   "file_extension": ".py",
   "mimetype": "text/x-python",
   "name": "python",
   "nbconvert_exporter": "python",
   "pygments_lexer": "ipython3",
   "version": "3.10.0"
  },
  "orig_nbformat": 4
 },
 "nbformat": 4,
 "nbformat_minor": 2
}
