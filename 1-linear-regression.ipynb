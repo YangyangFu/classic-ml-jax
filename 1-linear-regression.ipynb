{
 "cells": [
  {
   "attachments": {},
   "cell_type": "markdown",
   "metadata": {},
   "source": [
    "# 1. Linear Regression\n",
    "\n",
    "solve problem:\n",
    "\n",
    "$y^{(i)} = \\theta^T x^{(i)} + \\epsilon^{(i)}$\n",
    "\n",
    "# 1.1 Assumptions\n",
    "- errors ~ $N(0, \\delta^2)$, that is, $p(\\epsilon^{(i)}) = \\frac{1}{\\sqrt {2\\pi} \\delta} exp(-\\frac{(\\epsilon ^{(i)})^2}{2\\delta^2})$\n",
    "    - with rearangement, we have $p(y^{(i)}|x^{(i); \\theta}) = \\frac{1}{\\sqrt {2\\pi} \\delta} exp(-\\frac{(y^{(i)} - \\theta^Tx^{(i)})^2}{2\\delta^2})$\n",
    "- samples: independent"
   ]
  },
  {
   "attachments": {},
   "cell_type": "markdown",
   "metadata": {},
   "source": [
    "## 1.2 Likelihood Function\n",
    "\n",
    "**Likelihodd Function**:\n",
    "\n",
    "\\begin{equation}\n",
    "\n",
    "    L(\\theta) = p(y^{(1,...,m)} | x^{(1,...,m)}; \\theta) = \\Pi_{i=1}^m p(y^i|x^i, \\theta)\n",
    "    \n",
    "\\end{equation}\n",
    "\n",
    "**Notes**\n",
    "- what parameter can predict the given target when combined with given features -> purpose of maximum likelihood\n",
    "- the maximum probability that the parameter $\\theta$ can make ALL the prediction matches ALL the measurement\n",
    "- due to the independency of samples, the above equation holds.\n",
    "\n",
    "\n",
    "**Log-likelihood Function**\n",
    "\n",
    "\\begin{align}\n",
    " log L(\\theta) &= \\sum_{i=1}^{m} log (p(y^i|x^i; \\theta)) \\\\\n",
    "    &= \\sum_{i=1}^{m} log (\\frac{1}{\\sqrt {2\\pi} \\delta} exp(-\\frac{(y^i - \\theta^T(x^i)^2}{2\\delta^2})) \\\\\n",
    "    &= m log (\\frac{1}{\\sqrt{2\\pi}\\delta}) - \\frac{1}{\\delta^2} \\cdot \\frac{1}{2} \\sum_{i=0}^{m} (y^i - \\theta^Tx^i)^2 \\\\\n",
    "    &= constant - \\frac{1}{\\delta^2} \\cdot J(\\theta)\n",
    "\\end{align}\n",
    "\n",
    "where $constant$ is a constant value, and $J(\\theta)$ is typicall known as the least-sqaures cost function.\n",
    "\n",
    "**Notes**\n",
    "- easy calculation by changing production to additions.\n"
   ]
  },
  {
   "cell_type": "code",
   "execution_count": null,
   "metadata": {},
   "outputs": [],
   "source": []
  }
 ],
 "metadata": {
  "kernelspec": {
   "display_name": "jax-0.4.8",
   "language": "python",
   "name": "python3"
  },
  "language_info": {
   "name": "python",
   "version": "3.10.9"
  },
  "orig_nbformat": 4
 },
 "nbformat": 4,
 "nbformat_minor": 2
}
