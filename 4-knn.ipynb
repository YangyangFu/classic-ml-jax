{
 "cells": [
  {
   "attachments": {},
   "cell_type": "markdown",
   "metadata": {},
   "source": [
    "# Nearest Neighbors\n",
    "\n",
    "Nearst neighbor method is a nonparametric method used to density estimation that make few assumptions about the form of the distributions.\n",
    "\n"
   ]
  },
  {
   "cell_type": "code",
   "execution_count": 1,
   "metadata": {},
   "outputs": [],
   "source": [
    "import jax.numpy as jnp \n",
    "import numpy as np \n",
    "\n",
    "from basic.neighbors import NearestNeighborsClassifier"
   ]
  },
  {
   "cell_type": "code",
   "execution_count": 4,
   "metadata": {},
   "outputs": [
    {
     "name": "stdout",
     "output_type": "stream",
     "text": [
      "(2, 5)\n",
      "[[1.41421356 1.41421356 4.24264069 7.07106781 9.89949494]\n",
      " [9.89949494 7.07106781 4.24264069 1.41421356 1.41421356]]\n",
      "[[0 1 2]\n",
      " [3 4 2]]\n",
      "(5, 2) (5,) (2, 2) 3 (2, 3)\n"
     ]
    },
    {
     "data": {
      "text/plain": [
       "Array([0, 0], dtype=int32)"
      ]
     },
     "execution_count": 4,
     "metadata": {},
     "output_type": "execute_result"
    }
   ],
   "source": [
    "# Generate some example training and test data\n",
    "train_X = jnp.array([[1, 2], [3, 4], [5, 6], [7, 8], [9, 10]])\n",
    "train_y = jnp.array([0, 1, 0, 1, 0])\n",
    "test_X = jnp.array([[2, 3], [8, 9]])\n",
    "\n",
    "# Set the number of nearest neighbors to consider\n",
    "k = 3\n",
    "\n",
    "# Perform k-NN classification\n",
    "knn = NearestNeighborsClassifier()\n",
    "test_y = knn.predict(train_X, train_y, test_X, k)\n",
    "test_y"
   ]
  },
  {
   "cell_type": "code",
   "execution_count": 3,
   "metadata": {},
   "outputs": [
    {
     "name": "stdout",
     "output_type": "stream",
     "text": [
      "Unique elements: [1 2 3 4]\n",
      "Counts: [1 2 2 2]\n"
     ]
    }
   ],
   "source": [
    "import jax.numpy as jnp\n",
    "\n",
    "# Define an input array\n",
    "ar = jnp.array([3, 2, 1, 3, 2, 4, 4])\n",
    "\n",
    "# Get the unique elements of the array\n",
    "unique_elements = jnp.unique(ar)\n",
    "\n",
    "# Get the unique elements along with their counts\n",
    "unique_elements, counts = jnp.unique(ar, return_counts=True)\n",
    "\n",
    "print(\"Unique elements:\", unique_elements)\n",
    "print(\"Counts:\", counts)\n"
   ]
  }
 ],
 "metadata": {
  "kernelspec": {
   "display_name": "jax-0.4.8",
   "language": "python",
   "name": "python3"
  },
  "language_info": {
   "codemirror_mode": {
    "name": "ipython",
    "version": 3
   },
   "file_extension": ".py",
   "mimetype": "text/x-python",
   "name": "python",
   "nbconvert_exporter": "python",
   "pygments_lexer": "ipython3",
   "version": "3.10.0"
  },
  "orig_nbformat": 4
 },
 "nbformat": 4,
 "nbformat_minor": 2
}
