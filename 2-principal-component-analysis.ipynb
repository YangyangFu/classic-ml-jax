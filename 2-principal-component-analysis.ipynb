{
 "cells": [
  {
   "attachments": {},
   "cell_type": "markdown",
   "metadata": {},
   "source": [
    "# 2 Principal Component Analysis\n",
    "\n",
    "Principal components are linear combinations of the original features, which are uncorrelated and ordered by the amount of variance they explain in the dataset. \n",
    "The first principal component accounts for the largest possible variance, while each subsequent component explains the maximum remaining variance orthogonal to the previous components.\n",
    "\n",
    "The PCA algorithm involves the following steps:\n",
    "\n",
    "- Standardize the data: Center the data by subtracting the mean and scaling the features to have unit variance, if necessary.\n",
    "- Compute the covariance matrix of the standardized data.\n",
    "- Calculate the eigenvalues and eigenvectors of the covariance matrix.\n",
    "- Sort the eigenvalues and their corresponding eigenvectors in descending order.\n",
    "- Select the first `k` eigenvectors, where `k` is the desired number of dimensions, to form a transformation matrix.\n",
    "- Multiply the original data by the transformation matrix to obtain the new lower-dimensional data."
   ]
  },
  {
   "attachments": {},
   "cell_type": "markdown",
   "metadata": {},
   "source": [
    "## 2.1 Mathematical Background\n",
    "\n"
   ]
  },
  {
   "attachments": {},
   "cell_type": "markdown",
   "metadata": {},
   "source": [
    "### 2.1.1 Notation\n",
    "- mean: $\\mu = \\frac{1}{n} \\sum_{i=1}^{n} x_i$\n",
    "- variance: $\\sigma^2 = \\frac{1}{n-1} \\sum_{i=1}^{n} (x_i - \\mu)^2$\n",
    "- covariance between X and Y: $cov(X,Y) = E[(X-E(X))(Y-E(Y))] = \\frac{1}{n-1} \\sum_{i=1}^{n} (x_i - \\mu_x)(y_i - \\mu_y)$\n",
    "\n",
    "Convariance for 3-D data:\n",
    "\n",
    "\\begin{equation}\n",
    "    COV(X,Y,Z) = \n",
    "    \\begin{bmatrix}\n",
    "        cov(X,X) & cov(X,Y) & cov(X,Z) \\\\\n",
    "        cov(Y,X) & cov(Y,Y) & cov(Y,Z) \\\\\n",
    "        cov(Z,X) & cov(Z,Y) & cov(Z,Z) \\\\    \n",
    "    \\end{bmatrix}\n",
    "\\end{equation}"
   ]
  },
  {
   "attachments": {},
   "cell_type": "markdown",
   "metadata": {},
   "source": [
    "### 2.1.2 Maximization of Variance\n"
   ]
  },
  {
   "attachments": {},
   "cell_type": "markdown",
   "metadata": {},
   "source": [
    "### 2.1.3 Minimization of Reconstruction Error\n",
    "The PCA problem can also be formulated as an encoder-decoder strucuture, where the encoder is the PCA algorithm and the decoder is the reconstruction of the original data. \n",
    "The reconstruction error is the sum of squared differences between the original data and the reconstructed data. \n",
    "The goal is to minimize the reconstruction error by finding the principal components.\n"
   ]
  },
  {
   "attachments": {},
   "cell_type": "markdown",
   "metadata": {},
   "source": [
    "### 2.1.4 Eigendecomposition of the Covariance Matrix\n",
    "\n",
    "**Questions**\n",
    "- some said the eigendecomposition can be taken on the data matrix, instead of the covariance matrix, why?\n",
    "- what are the differences of these two approaches?\n",
    "\n",
    "The covariance matrix is a symmetric matrix, which means that it can be decomposed into a product of eigenvectors and eigenvalues.\n",
    "\n",
    "Typical ways of computing the eigendecomposition of a matrix are:\n",
    "- QR decomposition\n",
    "- Singular value decomposition (SVD)\n",
    "- Power iteration\n",
    "\n",
    "Apparently, based on the discussion [here](https://stats.stackexchange.com/questions/314046/why-does-andrew-ng-prefer-to-use-svd-and-not-eig-of-covariance-matrix-to-do-pca), SVD is preferred over eigendecomposition because it is more numerically stable.\n",
    "\n",
    "\n"
   ]
  },
  {
   "cell_type": "code",
   "execution_count": 111,
   "metadata": {},
   "outputs": [],
   "source": [
    "import matplotlib.pyplot as plt\n",
    "\n",
    "import jax\n",
    "import jax.numpy as jnp \n",
    "from jax import jit\n",
    "\n",
    "class PCA():\n",
    "    def __init__(self, k):\n",
    "        self.k = k\n",
    "        self.eigenvalues = None\n",
    "        self.eigenvectors = None\n",
    "    \n",
    "    def fit(self, X):\n",
    "        \"\"\"Perform PCA on the data\n",
    "\n",
    "        Args:\n",
    "            X (jnp.array): input data, shape (n_samples, n_features)\n",
    "        \"\"\"\n",
    "        # assume data is standardized\n",
    "        # SVD decomposition on data\n",
    "        # using SVD leads to diffrent figures at the end (mirrored versions). \n",
    "        # scikit learn uses SVD as well, but X = (-U) @ S @ (-V.T)\n",
    "        u, s, _ = jnp.linalg.svd(X.T)\n",
    "        self.eigenvectors = -u\n",
    "        self.eigenvalues = s**2\n",
    "        \n",
    "        # use eigenvalue decomposition\n",
    "        #s, u = jnp.linalg.eig(jnp.cov(X.T))\n",
    "        #self.eigenvectors = u \n",
    "        #self.eigenvalues = s\n",
    "        \n",
    "        # the first k components\n",
    "        # the eigenvalues are already sorted in descending order\n",
    "        transform_matrix = self.eigenvectors[:, :self.k]\n",
    "        \n",
    "        # project the data onto the k components\n",
    "        X_transformed = X @ transform_matrix\n",
    "        \n",
    "        return X_transformed\n",
    "    \n",
    "        "
   ]
  },
  {
   "cell_type": "code",
   "execution_count": 112,
   "metadata": {},
   "outputs": [
    {
     "data": {
      "text/html": [
       "<div>\n",
       "<style scoped>\n",
       "    .dataframe tbody tr th:only-of-type {\n",
       "        vertical-align: middle;\n",
       "    }\n",
       "\n",
       "    .dataframe tbody tr th {\n",
       "        vertical-align: top;\n",
       "    }\n",
       "\n",
       "    .dataframe thead th {\n",
       "        text-align: right;\n",
       "    }\n",
       "</style>\n",
       "<table border=\"1\" class=\"dataframe\">\n",
       "  <thead>\n",
       "    <tr style=\"text-align: right;\">\n",
       "      <th></th>\n",
       "      <th>sepal_len</th>\n",
       "      <th>sepal_wid</th>\n",
       "      <th>petal_len</th>\n",
       "      <th>petal_wid</th>\n",
       "      <th>class</th>\n",
       "    </tr>\n",
       "  </thead>\n",
       "  <tbody>\n",
       "    <tr>\n",
       "      <th>145</th>\n",
       "      <td>6.7</td>\n",
       "      <td>3.0</td>\n",
       "      <td>5.2</td>\n",
       "      <td>2.3</td>\n",
       "      <td>Iris-virginica</td>\n",
       "    </tr>\n",
       "    <tr>\n",
       "      <th>146</th>\n",
       "      <td>6.3</td>\n",
       "      <td>2.5</td>\n",
       "      <td>5.0</td>\n",
       "      <td>1.9</td>\n",
       "      <td>Iris-virginica</td>\n",
       "    </tr>\n",
       "    <tr>\n",
       "      <th>147</th>\n",
       "      <td>6.5</td>\n",
       "      <td>3.0</td>\n",
       "      <td>5.2</td>\n",
       "      <td>2.0</td>\n",
       "      <td>Iris-virginica</td>\n",
       "    </tr>\n",
       "    <tr>\n",
       "      <th>148</th>\n",
       "      <td>6.2</td>\n",
       "      <td>3.4</td>\n",
       "      <td>5.4</td>\n",
       "      <td>2.3</td>\n",
       "      <td>Iris-virginica</td>\n",
       "    </tr>\n",
       "    <tr>\n",
       "      <th>149</th>\n",
       "      <td>5.9</td>\n",
       "      <td>3.0</td>\n",
       "      <td>5.1</td>\n",
       "      <td>1.8</td>\n",
       "      <td>Iris-virginica</td>\n",
       "    </tr>\n",
       "  </tbody>\n",
       "</table>\n",
       "</div>"
      ],
      "text/plain": [
       "     sepal_len  sepal_wid  petal_len  petal_wid           class\n",
       "145        6.7        3.0        5.2        2.3  Iris-virginica\n",
       "146        6.3        2.5        5.0        1.9  Iris-virginica\n",
       "147        6.5        3.0        5.2        2.0  Iris-virginica\n",
       "148        6.2        3.4        5.4        2.3  Iris-virginica\n",
       "149        5.9        3.0        5.1        1.8  Iris-virginica"
      ]
     },
     "execution_count": 112,
     "metadata": {},
     "output_type": "execute_result"
    }
   ],
   "source": [
    "# get some data\n",
    "import pandas as pd\n",
    "\n",
    "df = pd.read_csv(\n",
    "    filepath_or_buffer='https://archive.ics.uci.edu/ml/machine-learning-databases/iris/iris.data',\n",
    "    header=None,\n",
    "    sep=',')\n",
    "\n",
    "df.columns=['sepal_len', 'sepal_wid', 'petal_len', 'petal_wid', 'class']\n",
    "df.dropna(how=\"all\", inplace=True) # drops the empty line at file-end\n",
    "\n",
    "df.tail()\n"
   ]
  },
  {
   "cell_type": "code",
   "execution_count": 113,
   "metadata": {},
   "outputs": [
    {
     "data": {
      "text/plain": [
       "(150, 4)"
      ]
     },
     "execution_count": 113,
     "metadata": {},
     "output_type": "execute_result"
    }
   ],
   "source": [
    "X = df.iloc[:,0:4].values\n",
    "y = df.iloc[:,4].values\n",
    "X.shape"
   ]
  },
  {
   "cell_type": "code",
   "execution_count": 114,
   "metadata": {},
   "outputs": [
    {
     "data": {
      "image/png": "[encoded data removed]",
      "text/plain": [
       "<Figure size 800x600 with 4 Axes>"
      ]
     },
     "metadata": {},
     "output_type": "display_data"
    }
   ],
   "source": [
    "from matplotlib import pyplot as plt\n",
    "import numpy as np\n",
    "import math\n",
    "\n",
    "label_dict = {1: 'Iris-Setosa',\n",
    "              2: 'Iris-Versicolor',\n",
    "              3: 'Iris-Virgnica'}\n",
    "\n",
    "feature_dict = {0: 'sepal length [cm]',\n",
    "                1: 'sepal width [cm]',\n",
    "                2: 'petal length [cm]',\n",
    "                3: 'petal width [cm]'}\n",
    "\n",
    "with plt.style.context('seaborn-whitegrid'):\n",
    "    plt.figure(figsize=(8, 6))\n",
    "    for cnt in range(4):\n",
    "        plt.subplot(2, 2, cnt+1)\n",
    "        for lab in ('Iris-setosa', 'Iris-versicolor', 'Iris-virginica'):\n",
    "            plt.hist(X[y==lab, cnt],\n",
    "                     label=lab,\n",
    "                     bins=10,\n",
    "                     alpha=0.3,)\n",
    "        plt.xlabel(feature_dict[cnt])\n",
    "    plt.legend(loc='upper right', fancybox=True, fontsize=8)\n",
    "\n",
    "    plt.tight_layout()\n",
    "    plt.show()\n"
   ]
  },
  {
   "cell_type": "code",
   "execution_count": 115,
   "metadata": {},
   "outputs": [
    {
     "data": {
      "text/plain": [
       "(150, 4)"
      ]
     },
     "execution_count": 115,
     "metadata": {},
     "output_type": "execute_result"
    }
   ],
   "source": [
    "# standardize the data\n",
    "def standardize_data(X):\n",
    "    mean = jnp.mean(X, axis=0)\n",
    "    std = jnp.std(X, axis=0)\n",
    "    return (X - mean) / std\n",
    "\n",
    "X_std = standardize_data(X)\n",
    "X_std.shape\n"
   ]
  },
  {
   "cell_type": "code",
   "execution_count": 116,
   "metadata": {},
   "outputs": [
    {
     "name": "stdout",
     "output_type": "stream",
     "text": [
      "Eigenvectors \n",
      "[[ 0.5223718 +0.j -0.37231818+0.j -0.72101706+0.j  0.26199543+0.j]\n",
      " [-0.2633547 +0.j -0.92555654+0.j  0.24203244+0.j -0.1241348 +0.j]\n",
      " [ 0.5812539 +0.j -0.02109469+0.j  0.14089267+0.j -0.80115426+0.j]\n",
      " [ 0.5656112 +0.j -0.06541599+0.j  0.63380116+0.j  0.5235464 +0.j]]\n",
      "\n",
      "Eigenvalues \n",
      "[2.930354  +0.j 0.9274032 +0.j 0.14834207+0.j 0.02074597+0.j]\n"
     ]
    }
   ],
   "source": [
    "# compare eigendecomposition method: QR decomposition on covariance matrix\n",
    "eig_vals, eig_vecs = jnp.linalg.eig(jnp.cov(X_std.T))\n",
    "print('Eigenvectors \\n%s' %eig_vecs)\n",
    "print('\\nEigenvalues \\n%s' %eig_vals)"
   ]
  },
  {
   "cell_type": "code",
   "execution_count": 117,
   "metadata": {},
   "outputs": [
    {
     "name": "stdout",
     "output_type": "stream",
     "text": [
      "Eigenvectors \n",
      "[[ 0.5223715 +0.j -0.37231833+0.j -0.721017  +0.j  0.2619952 +0.j]\n",
      " [-0.26335505+0.j -0.9255565 +0.j  0.24203286+0.j -0.12413497+0.j]\n",
      " [ 0.58125395+0.j -0.02109477+0.j  0.14089262+0.j -0.80115414+0.j]\n",
      " [ 0.56561124+0.j -0.06541583+0.j  0.6338011 +0.j  0.5235465 +0.j]]\n",
      "\n",
      "Eigenvalues \n",
      "[436.6228  +0.j 138.18323 +0.j  22.10297 +0.j   3.091142+0.j]\n"
     ]
    }
   ],
   "source": [
    "# QR decomposition for eigenvalues on data matrix\n",
    "eig_vals, eig_vecs = jnp.linalg.eig(X_std.T @ X_std)\n",
    "print('Eigenvectors \\n%s' %eig_vecs)\n",
    "print('\\nEigenvalues \\n%s' %eig_vals)"
   ]
  },
  {
   "cell_type": "code",
   "execution_count": 118,
   "metadata": {},
   "outputs": [
    {
     "name": "stdout",
     "output_type": "stream",
     "text": [
      "[[-0.5223717  -0.37231833  0.7210167   0.26199567]\n",
      " [ 0.26335496 -0.9255563  -0.24203277 -0.12413488]\n",
      " [-0.5812541  -0.02109483 -0.1408923  -0.80115426]\n",
      " [-0.56561095 -0.06541584 -0.63380134  0.5235464 ]]\n",
      "[20.895517  11.755135   4.7013803  1.7581688]\n"
     ]
    }
   ],
   "source": [
    "# Compare eigendecomposition method: SVD\n",
    "# u is eigenvectors for X_std.T @ X_std\n",
    "# s is singular values as the square root of the eigenvalues of X_std.T @ X_std or X_std @ X_std.T\n",
    "u,s,v = jnp.linalg.svd(X_std.T)\n",
    "print(u)\n",
    "print(s)"
   ]
  },
  {
   "attachments": {},
   "cell_type": "markdown",
   "metadata": {},
   "source": [
    "Basically, we can see with standardization, the eigenvectors are the same for both the covariance matrix and the data matrix if the data is standardized.\n"
   ]
  },
  {
   "cell_type": "code",
   "execution_count": 119,
   "metadata": {},
   "outputs": [
    {
     "name": "stdout",
     "output_type": "stream",
     "text": [
      "Traced<ShapedArray(float32[4,4])>with<DynamicJaxprTrace(level=1/0)>\n",
      "Traced<ShapedArray(float32[4])>with<DynamicJaxprTrace(level=1/0)>\n",
      "(150, 2)\n"
     ]
    }
   ],
   "source": [
    "# perform PCA\n",
    "pca = PCA(k=2)\n",
    "X_std_transformed = jit(pca.fit)(X_std)\n",
    "print(pca.eigenvectors)\n",
    "print(pca.eigenvalues)\n",
    "print(X_std_transformed.shape)"
   ]
  },
  {
   "cell_type": "code",
   "execution_count": 120,
   "metadata": {},
   "outputs": [
    {
     "data": {
      "image/png": "[encoded data removed]",
      "text/plain": [
       "<Figure size 600x400 with 1 Axes>"
      ]
     },
     "metadata": {},
     "output_type": "display_data"
    }
   ],
   "source": [
    "# plot new feature space\n",
    "with plt.style.context('seaborn-whitegrid'):\n",
    "    plt.figure(figsize=(6, 4))\n",
    "    for lab, col in zip(('Iris-setosa', 'Iris-versicolor', 'Iris-virginica'),\n",
    "                        ('blue', 'red', 'green')):\n",
    "        plt.scatter(X_std_transformed[y==lab, 0],\n",
    "                    X_std_transformed[y==lab, 1],\n",
    "                    label=lab,\n",
    "                    c=col)\n",
    "    plt.xlabel('Principal Component 1')\n",
    "    plt.ylabel('Principal Component 2')\n",
    "    plt.legend(loc='lower center')\n",
    "    plt.tight_layout()\n",
    "    plt.show()"
   ]
  }
 ],
 "metadata": {
  "kernelspec": {
   "display_name": "jax-0.4.8",
   "language": "python",
   "name": "python3"
  },
  "language_info": {
   "codemirror_mode": {
    "name": "ipython",
    "version": 3
   },
   "file_extension": ".py",
   "mimetype": "text/x-python",
   "name": "python",
   "nbconvert_exporter": "python",
   "pygments_lexer": "ipython3",
   "version": "3.10.9"
  },
  "orig_nbformat": 4
 },
 "nbformat": 4,
 "nbformat_minor": 2
}
