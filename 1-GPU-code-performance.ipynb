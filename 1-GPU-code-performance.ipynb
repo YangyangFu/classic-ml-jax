{
 "cells": [
  {
   "cell_type": "code",
   "execution_count": 1,
   "metadata": {},
   "outputs": [
    {
     "name": "stderr",
     "output_type": "stream",
     "text": [
      "/home/yyf/miniconda3/envs/pytorch-2.0.0/lib/python3.10/site-packages/torch/cuda/__init__.py:107: UserWarning: CUDA initialization: CUDA unknown error - this may be due to an incorrectly set up environment, e.g. changing env variable CUDA_VISIBLE_DEVICES after program start. Setting the available devices to be zero. (Triggered internally at /opt/conda/conda-bld/pytorch_1678402411778/work/c10/cuda/CUDAFunctions.cpp:109.)\n",
      "  return torch._C._cuda_getDeviceCount() > 0\n"
     ]
    },
    {
     "name": "stdout",
     "output_type": "stream",
     "text": [
      "Device: cpu\n",
      "Forward pass time: 0.531663179397583\n",
      "Backward pass time: 0.5857095718383789\n"
     ]
    }
   ],
   "source": [
    "import torch\n",
    "import time\n",
    "\n",
    "device = torch.device(\"cuda\" if torch.cuda.is_available() else \"cpu\")\n",
    "print('Device:', device)\n",
    "\n",
    "# create some random data\n",
    "input_data = torch.randn(10000, 10000).to(device)\n",
    "\n",
    "# define a simple model\n",
    "model = torch.nn.Linear(10000, 1000).to(device)\n",
    "\n",
    "# time the forward pass\n",
    "start_time = time.time()\n",
    "output = model(input_data)\n",
    "elapsed_time = time.time() - start_time\n",
    "print('Forward pass time:', elapsed_time)\n",
    "\n",
    "# time the backward pass (i.e. compute gradients)\n",
    "start_time = time.time()\n",
    "output.mean().backward()\n",
    "elapsed_time = time.time() - start_time\n",
    "print('Backward pass time:', elapsed_time)\n"
   ]
  }
 ],
 "metadata": {
  "kernelspec": {
   "display_name": "pytorch-2.0.0",
   "language": "python",
   "name": "python3"
  },
  "language_info": {
   "codemirror_mode": {
    "name": "ipython",
    "version": 3
   },
   "file_extension": ".py",
   "mimetype": "text/x-python",
   "name": "python",
   "nbconvert_exporter": "python",
   "pygments_lexer": "ipython3",
   "version": "3.10.10"
  },
  "orig_nbformat": 4
 },
 "nbformat": 4,
 "nbformat_minor": 2
}
