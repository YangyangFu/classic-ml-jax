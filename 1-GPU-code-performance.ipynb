{
 "cells": [
  {
   "cell_type": "code",
   "execution_count": 1,
   "metadata": {},
   "outputs": [
    {
     "name": "stdout",
     "output_type": "stream",
     "text": [
      "Device: cuda\n",
      "Forward pass time: 0.4200713634490967\n",
      "Backward pass time: 0.0012392997741699219\n"
     ]
    }
   ],
   "source": [
    "import torch\n",
    "import time\n",
    "\n",
    "device = torch.device(\"cuda\" if torch.cuda.is_available() else \"cpu\")\n",
    "print('Device:', device)\n",
    "\n",
    "# create some random data\n",
    "input_data = torch.randn(10000, 10000).to(device)\n",
    "\n",
    "# define a simple model\n",
    "model = torch.nn.Linear(10000, 1000).to(device)\n",
    "\n",
    "# time the forward pass\n",
    "start_time = time.time()\n",
    "output = model(input_data)\n",
    "elapsed_time = time.time() - start_time\n",
    "print('Forward pass time:', elapsed_time)\n",
    "\n",
    "# time the backward pass (i.e. compute gradients)\n",
    "start_time = time.time()\n",
    "output.mean().backward()\n",
    "elapsed_time = time.time() - start_time\n",
    "print('Backward pass time:', elapsed_time)\n"
   ]
  }
 ],
 "metadata": {
  "kernelspec": {
   "display_name": "pytorch-2.0.0",
   "language": "python",
   "name": "python3"
  },
  "language_info": {
   "codemirror_mode": {
    "name": "ipython",
    "version": 3
   },
   "file_extension": ".py",
   "mimetype": "text/x-python",
   "name": "python",
   "nbconvert_exporter": "python",
   "pygments_lexer": "ipython3",
   "version": "3.10.11"
  },
  "orig_nbformat": 4
 },
 "nbformat": 4,
 "nbformat_minor": 2
}
