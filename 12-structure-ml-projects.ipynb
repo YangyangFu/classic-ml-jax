{
 "cells": [
  {
   "cell_type": "markdown",
   "metadata": {},
   "source": [
    "# Structure Machine Learning Projects\n"
   ]
  },
  {
   "cell_type": "markdown",
   "metadata": {},
   "source": [
    "## Error Analysis"
   ]
  },
  {
   "cell_type": "markdown",
   "metadata": {},
   "source": [
    "## Mismatched training and dev/test set\n",
    "\n",
    "### Training and testing on different distributions\n",
    "**cat app example**\n",
    "- data from weblogs, e.g., 200,000\n",
    "- data from mobile app, e.g. 10,000\n",
    "- goal: accurate detection of cats in mobile app\n",
    "  \n",
    "Option 1: shuffle all data and split into train/dev/test (say, 205000, 2500, 2500)\n",
    "- pro: simple, train/dev/test come from same distribution\n",
    "- cons: a lot of data are from weblogs, so dev/test set are not representative of mobile app data\n",
    "\n",
    "Option 2: \n",
    "- because the test goal is to detect cats in \"mobile app\", we can put all mobile app data into dev/test set\n",
    "- training set: 205000 with 200000 from weblogs and 5000 from mobile app\n",
    "- dev/test set: 2500 from mobile app for each\n",
    "- pro: dev/test set are representative of mobile app data\n",
    "- cons: training distribution is different from dev/test set\n",
    "  - can be addressed using techniques such as XX\n",
    "\n",
    "### Bias and Variance with mismatched data distribution\n",
    "\n",
    "- assume humand error is 0% (optimal error)\n",
    "- training error = 1%\n",
    "- dev error = 10%\n",
    "\n",
    "**Diagnostics**:\n",
    "- if the training and dev set are from the same distribution, then the model has high variance (overfitting)\n",
    "- if the training and dev set are from different distributions, there might not be a high-variance problem. \n",
    "  - the dev set contains images that are much more difficult to classify than the training set.\n",
    "  - Two things has changed:\n",
    "    - the algorithm saw data in the training but not in the dev set - variance part\n",
    "    - the distribution of data in dev set is different from the training set - dev set is just different\n",
    "\n",
    "**solution**:\n",
    "- further split the trainig set into train set and tran-dev set, where there two have the same distribution\n",
    "  - train set is used to train models\n",
    "  - tran-dev set is used to evaluate models and tune hyperparameters\n",
    "  - dev set is used to evaluate models as well\n",
    "- error analysis\n",
    "  - `variance problem`: tran-dev error - training error\n",
    "    - training error: 1%\n",
    "    - tran-dev error: 9%\n",
    "    - dev error: 10%\n",
    "  - `data mismatch problem`: dev error - tran-dev error\n",
    "    - training error: 1%\n",
    "    - tran-dev error: 1.5%\n",
    "    - dev error: 10%\n",
    "  - `variance + data mismatch problem`\n",
    "    - human error: 0%\n",
    "    - training error: 10%\n",
    "    - train-dev error: 11%\n",
    "    - dev error: 20%\n",
    "  - `overfit to dev test`: test error - dev error\n",
    "    - dev error: 1%\n",
    "    - test error: 10%\n",
    "    - maybe bigger dev data set can help\n",
    "\n",
    "`better test error`: need check the dev set to see if it is representative of the test set\n",
    "- human-level error: 4%\n",
    "- training error: 7%\n",
    "- train-dev error: 10%\n",
    "- dev error: 6%\n",
    "- test error: 6%\n",
    "\n",
    "|error| general speech data | rearview mirror speech data|\n",
    "|---|---|---|\n",
    "|human-level error| 4% | 6% |\n",
    "|training error| 7% | 6% |\n",
    "|train-dev error| 10% | 6% |\n",
    "\n",
    "\n",
    "### Addressing data mismatch\n",
    "- carry out manual error anaysis to try to understand difference between training and dev/test sets\n",
    "  - should look at dev set, not test set to avoid data leakage\n",
    "- make training data more similar to dev/test sets, or collect more data similar to dev/test sets\n",
    "  - artificial data synthesis\n",
    "    - add noise to existing data\n",
    "  - e.g., cat app example, add more mobile app data to training set\n",
    "  - car object detection\n",
    "    - car images from real world (e.g., so many different cars)\n",
    "    - car images from computer graph techniques (e.g., 20 unique cars)\n",
    "    - if train on such similators, the model will not generalize well to real world"
   ]
  },
  {
   "cell_type": "markdown",
   "metadata": {},
   "source": [
    "## Learning from multiple tasks\n",
    "\n",
    "### Transfer learning\n",
    "\n",
    "### Multi-task learning\n",
    "\n",
    "object dection example: classication and regression"
   ]
  },
  {
   "cell_type": "markdown",
   "metadata": {},
   "source": [
    "## End-to-end deep learning\n",
    "\n",
    "speech recognition example\n",
    "- audio -> features -> phonemes -> words -> transcript\n",
    "\n",
    "learn multiple stages at once"
   ]
  }
 ],
 "metadata": {
  "language_info": {
   "name": "python"
  },
  "orig_nbformat": 4
 },
 "nbformat": 4,
 "nbformat_minor": 2
}
