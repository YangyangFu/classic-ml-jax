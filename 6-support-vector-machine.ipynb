{
 "cells": [
  {
   "attachments": {},
   "cell_type": "markdown",
   "metadata": {},
   "source": [
    "# Sparse Kernel"
   ]
  },
  {
   "attachments": {},
   "cell_type": "markdown",
   "metadata": {},
   "source": [
    "## Support Vector Machine"
   ]
  },
  {
   "attachments": {},
   "cell_type": "markdown",
   "metadata": {},
   "source": [
    "Reference\n",
    "- https://www.youtube.com/watch?v=QSEPStBgwRQ\n",
    "- pattern recognition and machine learning, chapter 7"
   ]
  },
  {
   "attachments": {},
   "cell_type": "markdown",
   "metadata": {},
   "source": [
    "Difference between SVM and Logistic Regression\n",
    "- major difference is that SVM uses hinge loss while logistic regression uses cross-entropy loss."
   ]
  },
  {
   "attachments": {},
   "cell_type": "markdown",
   "metadata": {},
   "source": [
    "### SVM Problem\n",
    "\n",
    "0. Data\n",
    "\n",
    "    x: input, $x \\in \\mathbb{R}^D$\n",
    "\n",
    "    t: target, $t \\in \\{-1, 1\\}$\n",
    "\n",
    "1. Model\n",
    "\n",
    "$$y(x) = w^T x + b$$\n",
    "\n",
    "$$\n",
    "g(x) = \\begin{cases}\n",
    "1 & \\text{if } y(x) \\geq 0 \\\\\n",
    "-1 & \\text{otherwise}\n",
    "\\end{cases}\n",
    "$$\n",
    "\n",
    "2. Loss Function\n",
    "\n",
    "$$ \n",
    "L(y) = \\sum_{n=1}^N \\delta (g(x_n) \\neq t_n) = \\sum_{n=1}^N l(y(x_n), t_n)\n",
    "$$\n",
    "\n"
   ]
  },
  {
   "attachments": {},
   "cell_type": "markdown",
   "metadata": {},
   "source": [
    "### Hinge Loss and Cross-Entropy Loss\n",
    "\n",
    "- ideal loss function: 0-1 loss\n",
    "    $$\n",
    "    l = \\begin{cases}\n",
    "    0 & \\text{if } t_ny(x_n) \\geq 0 \\\\\n",
    "    1 & \\text{otherwise}\n",
    "    \\end{cases}\n",
    "    $$\n",
    "\n",
    "- "
   ]
  },
  {
   "attachments": {},
   "cell_type": "markdown",
   "metadata": {},
   "source": [
    "### SVM Formulation\n",
    "\n",
    "\n",
    "\n"
   ]
  },
  {
   "attachments": {},
   "cell_type": "markdown",
   "metadata": {},
   "source": [
    "### Optimization\n",
    "\n",
    "Gradient Descent"
   ]
  },
  {
   "attachments": {},
   "cell_type": "markdown",
   "metadata": {},
   "source": [
    "### Kernel Trick\n"
   ]
  },
  {
   "cell_type": "code",
   "execution_count": 1,
   "metadata": {},
   "outputs": [],
   "source": [
    "import jax\n",
    "import jax.numpy as jnp\n",
    "from sklearn import datasets\n",
    "from sklearn import preprocessing\n",
    "import matplotlib.pyplot as plt\n",
    "\n",
    "from basic.kernel.kernel import Linear\n",
    "from basic.sparse_kernel.svm import BinarySVC\n"
   ]
  },
  {
   "cell_type": "code",
   "execution_count": 2,
   "metadata": {},
   "outputs": [
    {
     "name": "stderr",
     "output_type": "stream",
     "text": [
      "2023-05-28 14:59:12.787426: E external/xla/xla/stream_executor/cuda/cuda_driver.cc:268] failed call to cuInit: CUDA_ERROR_UNKNOWN: unknown error\n",
      "No GPU/TPU found, falling back to CPU. (Set TF_CPP_MIN_LOG_LEVEL=0 and rerun for more info.)\n"
     ]
    },
    {
     "name": "stdout",
     "output_type": "stream",
     "text": [
      "2.0\n"
     ]
    }
   ],
   "source": [
    "lam = 0.5\n",
    "tol = 1e-06\n",
    "num_samples = 30\n",
    "num_features = 5\n",
    "verbose = False\n",
    "\n",
    "# Prepare data.\n",
    "X, y = datasets.make_classification(n_samples=num_samples, n_features=num_features,\n",
    "                                n_classes=2,\n",
    "                                random_state=0)\n",
    "X = preprocessing.Normalizer().fit_transform(X)\n",
    "y = jnp.array(y * 2. - 1)  # Transform labels from {0, 1} to {-1., 1.}.\n",
    "\n",
    "C = 1./ lam\n",
    "\n",
    "# Compare the obtained dual coefficients.\n",
    "# kernels \n",
    "linear_kernel = Linear()\n",
    "svc = BinarySVC()\n",
    "beta, sv = svc.fit(X, y)\n",
    "sv_index = jnp.where(sv)[0]\n",
    "\n",
    "# predict\n",
    "svc_predict = jax.jit(svc.predict)\n",
    "#svc_predict = svc.predict\n",
    "y_predict = svc_predict(X_test=X, \n",
    "                        X_train=X, \n",
    "                        y_train=y, \n",
    "                        beta=beta, \n",
    "                        sv_index=sv_index)\n",
    "\n",
    "print(jnp.abs(y_predict - y).sum())"
   ]
  }
 ],
 "metadata": {
  "kernelspec": {
   "display_name": "jax-0.4.8",
   "language": "python",
   "name": "python3"
  },
  "language_info": {
   "codemirror_mode": {
    "name": "ipython",
    "version": 3
   },
   "file_extension": ".py",
   "mimetype": "text/x-python",
   "name": "python",
   "nbconvert_exporter": "python",
   "pygments_lexer": "ipython3",
   "version": "3.10.0"
  },
  "orig_nbformat": 4
 },
 "nbformat": 4,
 "nbformat_minor": 2
}
