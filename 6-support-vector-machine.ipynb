{
 "cells": [
  {
   "attachments": {},
   "cell_type": "markdown",
   "metadata": {},
   "source": [
    "# Sparse Kernel"
   ]
  },
  {
   "attachments": {},
   "cell_type": "markdown",
   "metadata": {},
   "source": [
    "## Support Vector Machine"
   ]
  },
  {
   "attachments": {},
   "cell_type": "markdown",
   "metadata": {},
   "source": [
    "Reference\n",
    "- https://www.youtube.com/watch?v=QSEPStBgwRQ\n",
    "- pattern recognition and machine learning, chapter 7"
   ]
  },
  {
   "attachments": {},
   "cell_type": "markdown",
   "metadata": {},
   "source": [
    "Difference between SVM and Logistic Regression\n",
    "- major difference is that SVM uses hinge loss while logistic regression uses cross-entropy loss."
   ]
  },
  {
   "attachments": {},
   "cell_type": "markdown",
   "metadata": {},
   "source": [
    "### SVM Problem\n",
    "\n",
    "0. Data\n",
    "\n",
    "    x: input, $x \\in \\mathbb{R}^D$\n",
    "\n",
    "    t: target, $t \\in \\{-1, 1\\}$\n",
    "\n",
    "1. Model\n",
    "\n",
    "$$f(x) = w^T x + b$$\n",
    "\n",
    "$$\n",
    "g(x) = \\begin{cases}\n",
    "1 & \\text{if } f(x) \\geq 0 \\\\\n",
    "-1 & \\text{otherwise}\n",
    "\\end{cases}\n",
    "$$\n",
    "\n",
    "2. Loss Function\n",
    "\n",
    "The ideal loss function is 0-1 loss function, where the loss is 0 if $g(x) = t$ and 1 otherwise. \n",
    "This loss function counts the number of times the model gets incorrect results on the training data.\n",
    "However, this is not convex and not differentiable. \n",
    "\n",
    "$$ \n",
    "L(x, t) = \\sum_{n=1}^N \\delta (g(x_n) \\neq t_n)\n",
    "$$\n",
    "\n"
   ]
  },
  {
   "attachments": {},
   "cell_type": "markdown",
   "metadata": {},
   "source": [
    "### Hinge Loss and Cross-Entropy Loss\n",
    "\n",
    "**ideal loss** function: 0-1 loss\n",
    "    $$\n",
    "    l = \\begin{cases}\n",
    "    0 & \\text{if } t_nf(x_n) \\geq 0 \\\\\n",
    "    1 & \\text{otherwise}\n",
    "    \\end{cases}\n",
    "    $$\n",
    "\n",
    "Because this loss function is not convex and not differentiable, we need to use other loss functions $l$, so that,\n",
    "$$\n",
    "L(x, t) = \\sum_{n=1}^N l(t_n, f(x_n))\n",
    "$$\n",
    "\n",
    "The form of $l$ could be different, such as square error, cross-entropy, hinge loss, etc.\n",
    "However, different loss function might lead to different performance. \n",
    "\n",
    "**square loss**\n",
    "\n",
    "for square loss, we want to minimize the square error between the prediction and the target.\n",
    "$$\n",
    "l = (t_nf(x_n) - 1)^2\n",
    "$$\n",
    "\n",
    "This is not good for classification, because we want that `when the prediction is correct, the loss should be small`.\n",
    "- for square loss, when the prediction is correct, $t_nf(x_n)$ could be a large positive number, which leads to a large loss.\n",
    "\n",
    "**sigmoid + square loss**\n",
    "\n",
    "we want:\n",
    "- when $t_n = 1$, $\\sigma (f(x_n))$ close to 1 $\\rightarrow$ $(\\sigma (f(x_n)) - 1)^2$\n",
    "- when $t_n = -1$, $\\sigma (f(x_n))$ close to 0 $\\rightarrow$ $(\\sigma (-f(x_n)) - 1)^2 = (1- \\sigma(f(x)) - 1)^2 = (\\sigma (f(x)))^2$\n",
    "  \n",
    "Then we can write the loss function as:\n",
    "$$\n",
    "l = ( \\sigma (t_nf(x_n)) - 1)^2\n",
    "$$\n",
    "\n",
    "However, this is still not good for classification, because this changes over sigmoid function is very small, which would lead to slow learning.\n",
    "- when $t_n f(x_n)$ is very negative (very wrong prediction), the change of the loss function is very small, which would lead to slow learning.\n",
    "\n",
    "**sigmoid + cross-entropy loss (logistic regression)**\n",
    "\n",
    "we want:\n",
    "- when $t_n = 1$, $\\sigma (f(x_n))$: probability of $t_n = 1$ \n",
    "- when $t_n = -1$, $1 - \\sigma (f(x_n))$\n",
    "\n",
    "then we can write the loss function as: -> this will need some derivation\n",
    "$$\n",
    "l = \\ln (1 + e^{(-t_nf(x_n))})\n",
    "$$\n",
    "\n",
    "This function is a good loss function for classification, because:\n",
    "- when $t_nf(x_n)$ is very negative, the loss function is very large, and the slope is steep, which would lead to large changes in the model.\n",
    "- when $t_nf(x_n)$ is very positive, the loss function is very small, and the slope is almost flat, which would lead to small changes in the model.\n",
    "\n",
    "**hinge loss**\n",
    "\n",
    "Although the cross-entropy loss is a good loss function for classification, but for SVM, we want   \n",
    "- when $t_nf(x_n)$ is positive and greater than some threshold, e.g., 1, the loss should be 0, because we dont care about the prediction that is very correct.\n",
    "- when $t_nf(x_n)$ is negative, we want to quicky decrease the loss to make it positive (correct prediction)\n",
    "  \n",
    "  $$\n",
    "  l = \\max(0, 1 - t_nf(x_n))\n",
    "  $$\n",
    "\n",
    "Why the threshold is 1?\n",
    "- 1 can make sure hinge loss is a tight upper bound for 0-1 loss. This can be visualized in the loss plot.\n",
    "\n",
    "Also a good loss function for classification, because:\n",
    "  - if the prediction is correct, the loss is 0\n",
    "  - more robust to outliers than cross-entropy loss\n",
    "    - if the prediction is very wrong, the cross-entropy loss is greater than the hinge loss. Thus for outliers, cross-entropy loss might be more sensitive by adjusting parameters more.\n",
    "\n",
    "\n",
    "### Linera SVM Formulation\n",
    "\n",
    "\\begin{align}\n",
    "\\min_{w, b} \\quad & \\sum_{n}^{N} \\max(0, 1 - t^n f(x_n)) + \\lambda w^2 \\\\\n",
    "\\end{align}\n",
    "\n",
    "\n"
   ]
  },
  {
   "attachments": {},
   "cell_type": "markdown",
   "metadata": {},
   "source": [
    "### General SVM Formulation\n",
    "\n",
    "use $\\epsilon_n$ to replace the hingle loss at $x_n$: $\\max(0, 1- t_nf(x_n))$\n",
    "\n",
    "we have:\n",
    "$$\n",
    "\\epsilon_n = \\max(0, 1- t_nf(x_n))\n",
    "$$\n",
    "\n",
    "therefore,\n",
    "\n",
    "$$\n",
    "t_n f(x_n) \\ge 1 - \\epsilon_n\n",
    "$$\n",
    "\n",
    "The overall formulation is then:\n",
    "\n",
    "\\begin{align}\n",
    "\\min_{w, b, \\epsilon} \\quad & \\frac{1}{2} w^T w + C \\sum_{n=1}^N \\epsilon_n \\\\\n",
    "\\text{subject to} \\quad & t_n f(x_n) \\ge 1 - \\epsilon_n \\\\\n",
    "& \\epsilon_n \\ge 0\n",
    "\\end{align}\n",
    "\n",
    "where $C$ is a hyperparameter that controls the trade-off between the slack variable penalty and the margin.\n",
    "\n",
    "This leads to a quadratic programming problem, which can be solved by QP solver.\n"
   ]
  },
  {
   "attachments": {},
   "cell_type": "markdown",
   "metadata": {},
   "source": [
    "### Optimization\n",
    "\n",
    "Gradient Descent"
   ]
  },
  {
   "attachments": {},
   "cell_type": "markdown",
   "metadata": {},
   "source": [
    "### Kernel Trick\n"
   ]
  },
  {
   "cell_type": "code",
   "execution_count": 87,
   "metadata": {},
   "outputs": [],
   "source": [
    "import jax\n",
    "import jax.numpy as jnp\n",
    "from sklearn import datasets\n",
    "from sklearn import preprocessing\n",
    "import matplotlib.pyplot as plt\n",
    "import numpy as np\n",
    "np.random.seed(0)   \n",
    "\n",
    "from basic.kernel.kernel import Linear\n",
    "from basic.kernel.kernel import RadialBasisFunction\n",
    "from basic.sparse_kernel.svm import BinarySVC\n"
   ]
  },
  {
   "cell_type": "code",
   "execution_count": 88,
   "metadata": {},
   "outputs": [
    {
     "name": "stdout",
     "output_type": "stream",
     "text": [
      "(50,)\n"
     ]
    },
    {
     "data": {
      "image/png": "[encoded data removed]",
      "text/plain": [
       "<Figure size 640x480 with 1 Axes>"
      ]
     },
     "metadata": {},
     "output_type": "display_data"
    }
   ],
   "source": [
    "def create_toy_data():\n",
    "    x = np.random.uniform(-1, 1, 100).reshape(-1, 2)\n",
    "    y = x < 0\n",
    "    y = (y[:, 0] * y[:, 1]).astype(np.float32)\n",
    "    return x, np.sign(1 - 2 * y)\n",
    "\n",
    "# Prepare data.\n",
    "X, y = create_toy_data()\n",
    "#X = preprocessing.Normalizer().fit_transform(X)\n",
    "#y = jnp.array(y * 2. - 1)  # Transform labels from {0, 1} to {-1., 1.}.\n",
    "\n",
    "C = 2\n",
    "\n",
    "# Compare the obtained dual coefficients.\n",
    "# kernels \n",
    "linear_kernel = Linear()\n",
    "rbf_kernel = RadialBasisFunction()\n",
    "rbf_kernel_params = {'variance': 1.0, 'length_scale': 1.0}\n",
    "\n",
    "# svc\n",
    "svc = BinarySVC(kernel=rbf_kernel, kernel_params=rbf_kernel_params, C=C)\n",
    "beta, sv_index = svc.fit(X, y)\n",
    "sv_x = X[sv_index]\n",
    "sv_y = y[sv_index]\n",
    "\n",
    "# predict\n",
    "#svc_predict = jax.jit(svc.predict)\n",
    "svc_predict = svc.predict\n",
    "y_predict = svc_predict(X_test=X, \n",
    "                        X_train=X, \n",
    "                        y_train=y, \n",
    "                        beta=beta, \n",
    "                        sv_index=sv_index)\n",
    "print(y_predict.shape)\n",
    "x0, x1 = jnp.meshgrid(jnp.linspace(-1, 1, 100), jnp.linspace(-1, 1, 100))\n",
    "x = jnp.array([x0, x1]).reshape(2, -1).T\n",
    "\n",
    "plt.scatter(X[:, 0], X[:, 1], s=40, c=y, marker=\"x\")\n",
    "plt.scatter(sv_x[:, 0], sv_x[:, 1], s=100, facecolor=\"none\", edgecolor=\"g\")\n",
    "plt.contour(\n",
    "    x0, x1, svc.distance(x, X, y, beta, sv_index).reshape(100, 100),\n",
    "    jnp.arange(-1, 2), colors=\"k\", linestyles=(\"dashed\", \"solid\", \"dashed\"))\n",
    "plt.xlim(-1, 1)\n",
    "plt.ylim(-1, 1)\n",
    "plt.gca().set_aspect(\"equal\", adjustable=\"box\")\n"
   ]
  },
  {
   "cell_type": "code",
   "execution_count": 89,
   "metadata": {},
   "outputs": [
    {
     "data": {
      "text/plain": [
       "array([ 1.,  1.,  1.,  1.,  1.,  1.,  1., -1.,  1.,  1.,  1.,  1.,  1.,\n",
       "        1.,  1.,  1.,  1.,  1.,  1.,  1., -1.,  1.,  1., -1., -1.,  1.,\n",
       "        1., -1.,  1., -1., -1.,  1., -1.,  1.,  1.,  1.,  1.,  1., -1.,\n",
       "       -1., -1.,  1.,  1.,  1.,  1.,  1.,  1., -1.,  1.,  1.],\n",
       "      dtype=float32)"
      ]
     },
     "execution_count": 89,
     "metadata": {},
     "output_type": "execute_result"
    }
   ],
   "source": [
    "y"
   ]
  }
 ],
 "metadata": {
  "kernelspec": {
   "display_name": "jax-0.4.8",
   "language": "python",
   "name": "python3"
  },
  "language_info": {
   "codemirror_mode": {
    "name": "ipython",
    "version": 3
   },
   "file_extension": ".py",
   "mimetype": "text/x-python",
   "name": "python",
   "nbconvert_exporter": "python",
   "pygments_lexer": "ipython3",
   "version": "3.10.0"
  },
  "orig_nbformat": 4
 },
 "nbformat": 4,
 "nbformat_minor": 2
}
